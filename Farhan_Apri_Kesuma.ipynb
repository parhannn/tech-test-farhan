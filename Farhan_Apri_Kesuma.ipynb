{
 "cells": [
  {
   "cell_type": "markdown",
   "id": "c14dd043",
   "metadata": {},
   "source": [
    "# Farhan Apri Kesuma - DevOps Jr Candidate\n",
    "\n",
    "---\n",
    "\n",
    "## Tech Test\n",
    "\n",
    "1. nda dapat melakukan penginstallan hingga sistem operasi yang ditentukan berjalan, sistem operasi yang digunakan menggunakan Turn Key Linux dengan software serta komponen yang terinstall adalah Lamp Server.\n",
    "2. Lakukan update dan upgrade terhadap sistem operasi yang ditentukan pada poin 1, serta seluruh komponen bawaan yang terdapat pada sistem operasi tersebut, dibuktikan dengan status \"latest update\".\n",
    "3. ⁠Mendokumentasikan seluruh proses yang dilakukan hingga berjalan pada virtual machine software yang terinstall pada komputer calon pekerja.\n"
   ]
  }
 ],
 "metadata": {
  "kernelspec": {
   "display_name": "py310_multimedia",
   "language": "python",
   "name": "python3"
  },
  "language_info": {
   "name": "python",
   "version": "3.10.15"
  }
 },
 "nbformat": 4,
 "nbformat_minor": 5
}
